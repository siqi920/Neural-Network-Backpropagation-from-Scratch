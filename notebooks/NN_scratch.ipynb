{
 "cells": [
  {
   "cell_type": "code",
   "execution_count": 76,
   "metadata": {},
   "outputs": [
    {
     "name": "stdout",
     "output_type": "stream",
     "text": [
      "shape_Input_array (2, 4)\n",
      "output_array.shape [[0 1 1 0]] (1, 4)\n"
     ]
    }
   ],
   "source": [
    "# XOR gate using Numpy\n",
    "import numpy as np\n",
    "# input: XOR gate, type: ndaaray\n",
    "\n",
    "n1 = 4\n",
    "n2 = 1\n",
    "feature_num = 2 \n",
    "input_num = 4\n",
    "learning_rate = 0.1\n",
    "epoch_num = 5000\n",
    "\n",
    "# we only have 4 training data.\n",
    "Input_arry = np.array([[0,0],[0,1],[1,0],[1,1]]).T\n",
    "print(\"shape_Input_array\", Input_arry.shape)\n",
    "Output_array=np.array([0,1,1,0]).reshape(n2, input_num)\n",
    "print(\"output_array.shape\", Output_array, Output_array.shape)\n",
    "\n",
    "\n",
    "# 1.Random initialization of weights\n",
    "np.random.seed(314)\n",
    "theta1=np.random.rand(n1,feature_num)\n",
    "theta2=np.random.rand(n2,n1)"
   ]
  },
  {
   "cell_type": "code",
   "execution_count": 77,
   "metadata": {},
   "outputs": [],
   "source": [
    "def sigmoid(x):\n",
    "   return 1/(1+np.exp(-x))\n",
    "\n",
    "def sigmoid_der(x):\n",
    "    return sigmoid(x)*(1-sigmoid(x))\n",
    "\n",
    "# 2. Forward Propogation, 1 layer NN (2 input,4 hidden layer, 1 output)\n",
    "def forward_run(theta1, theta2, Input_arry):\n",
    "    z1=np.dot(theta1, Input_arry) # z1=theta1*Input_arry  (n1,feature_num)*(feature_num,input_num)\n",
    "    # print(\"z1\", z1, z1.shape)\n",
    "    a1=sigmoid(z1) # shape: (n1,input_num)\n",
    "    z2=np.dot(theta2, a1)\n",
    "    a2=sigmoid(z2)\n",
    "    return a2,z2, a1,z1 # shape:(n2,input_num)\n",
    "\n",
    "def loss(y):\n",
    "    loss_sum=np.sum((y-Output_array) ** 2)\n",
    "    # print(\"loss sum =\", loss_sum)\n",
    "    # loss_sum = -(1/2)*np.sum(Output_array*np.log(y)+(1-Output_array)*np.log(1-y))\n",
    "    return  loss_sum\n",
    "\n",
    "def loss_der(y):\n",
    "    return (y-Output_array)\n",
    "\n",
    "def back_prop(theta2,a2,z2,a1,z1):\n",
    "    #updata theta2 \n",
    "    #initialize the gradient to 0\n",
    "    z2_der, diff_theta2,a1_der, z1_der,diff_theta1 = 0,0,0,0,0\n",
    "    z2_der=loss_der(a2)*sigmoid_der(z2)\n",
    "    diff_theta2=np.dot(z2_der, a1.T)\n",
    "    a1_der=np.dot(theta2.T, z2_der)\n",
    "    z1_der=a1_der*sigmoid_der(z1)\n",
    "    diff_theta1=np.dot(z1_der, Input_arry.T)\n",
    "    return  diff_theta1, diff_theta2\n",
    " "
   ]
  },
  {
   "cell_type": "code",
   "execution_count": 78,
   "metadata": {},
   "outputs": [
    {
     "name": "stdout",
     "output_type": "stream",
     "text": [
      "loss= 0.07264093163491024\n",
      "theta1= (4, 2) theta2= (1, 4)\n"
     ]
    },
    {
     "data": {
      "image/png": "[encoded data removed]",
      "text/plain": [
       "<Figure size 640x480 with 1 Axes>"
      ]
     },
     "metadata": {},
     "output_type": "display_data"
    }
   ],
   "source": [
    "Loss = []\n",
    "for trail in range(epoch_num):\n",
    "    # 3. forward\n",
    "    a2,z2,a1,z1=forward_run(theta1, theta2, Input_arry)\n",
    "    # print(f\"a2={a2.shape}, z2={z2.shape}, a1={a1.shape}, z1={z1.shape}\")\n",
    "    loss_val = loss(a2) # \n",
    "    # print(\"trail=\", trail,\"loss=\", loss_val)\n",
    "    # 4.Back Propagation\n",
    "    d_theta1, d_theta2 =back_prop(theta2,a2,z2,a1,z1)\n",
    "    theta2 = theta2 - learning_rate* d_theta2\n",
    "    # print(\"theta2_update 1 time= \", theta2, theta2.shape,learning_rate* diff_theta[1] )\n",
    "    theta1 = theta1 - learning_rate * d_theta1\n",
    "    # print(\"theta1=\", theta1, \"theta2=\", theta2)\n",
    "    Loss.append(loss_val)\n",
    "# print the last item of loss\n",
    "print(\"loss=\", Loss[-1])\n",
    "print(\"theta1=\", theta1.shape, \"theta2=\", theta2.shape)\n",
    "import matplotlib.pyplot as plt\n",
    "#plot the Loss over the trail\n",
    "plt.plot(Loss)\n",
    "plt.show()    "
   ]
  },
  {
   "cell_type": "code",
   "execution_count": 79,
   "metadata": {},
   "outputs": [],
   "source": [
    "def predict(theta1,theta2,input):\n",
    "    a2,z2,a1,z1 = forward_run(theta1,theta2,input)\n",
    "    print(f\"a2={a2}, z2={z2.shape}, a1={a1.shape}, z1={z1.shape}\")\n",
    "    a2 = np.squeeze(a2)\n",
    "    if a2>=0.5:\n",
    "        print(\"For input\", [i[0] for i in input], \"output is 1\")# ['{:.2f}'.format(i) for i in x])\n",
    "    else:\n",
    "        print(\"For input\", [i[0] for i in input], \"output is 0\")"
   ]
  },
  {
   "cell_type": "code",
   "execution_count": 80,
   "metadata": {},
   "outputs": [
    {
     "name": "stdout",
     "output_type": "stream",
     "text": [
      "test_input (2, 1)\n",
      "a2=[[0.17389991]], z2=(1, 1), a1=(4, 1), z1=(4, 1)\n",
      "For input [0, 0] output is 0\n"
     ]
    }
   ],
   "source": [
    "# test the model\n",
    "test_input = np.array([[0,0]]).T\n",
    "print(\"test_input\", test_input.shape)\n",
    "predict(theta1,theta2,test_input)\n"
   ]
  }
 ],
 "metadata": {
  "kernelspec": {
   "display_name": "Python 3",
   "language": "python",
   "name": "python3"
  },
  "language_info": {
   "codemirror_mode": {
    "name": "ipython",
    "version": 3
   },
   "file_extension": ".py",
   "mimetype": "text/x-python",
   "name": "python",
   "nbconvert_exporter": "python",
   "pygments_lexer": "ipython3",
   "version": "3.10.13"
  }
 },
 "nbformat": 4,
 "nbformat_minor": 2
}
