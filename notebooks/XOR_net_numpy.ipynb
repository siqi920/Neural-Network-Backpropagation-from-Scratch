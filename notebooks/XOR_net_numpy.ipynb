{
 "cells": [
  {
   "cell_type": "markdown",
   "metadata": {},
   "source": [
    "# simple 2 layer  neural network for XOR gate from scratch\n",
    "\n",
    "Training data\n",
    "$$\n",
    "\\begin{pmatrix} \n",
    "  0 & 0 & 1  & 1 \\\\\n",
    "  0 & 1 & 0  & 1 \\\\\n",
    "\\end{pmatrix}\n",
    "$$\n",
    "\n",
    "Feed forwad equations\n",
    "\\begin{align*}\n",
    "&z^1 = w^1 x + b^1 \\\\\n",
    "&a^1 = f(z^1) \\\\\n",
    "&z^2 = w^2 a^1 + b^2 \\\\\n",
    "&a^2 = f(z^2) \n",
    "\\end{align*}\n",
    "\n",
    "loss fuction: cross entropy loss (binary classfication in this case)\n",
    "$$\n",
    "l = -\\frac{1}{N} {(y \\cdot \\log(a^2) + (1-y) \\cdot \\log(1-a^2)))}\n",
    "$$\n",
    "Where N is number of training data, y is the true label, $a^2$ is output of the network."
   ]
  },
  {
   "cell_type": "markdown",
   "metadata": {},
   "source": [
    "Backpropagation Equations\n",
    "\\begin{align*}\n",
    "&\\frac{\\partial l}{\\partial a^2} = \\frac{a^2-y}{a^2 (1-a^2)} \\\\\n",
    "&\\frac{\\partial a^2}{\\partial z^2} = f(z^2) \\cdot (1-f(z^2)) = a^2 (1-a^2) \\\\\n",
    "&\\frac{\\partial l}{\\partial z^2} = \\frac{\\partial l}{\\partial a^2} \\circ \\frac{\\partial a^2}{\\partial z^2} = (a^2 -y)\n",
    "\\end{align*}"
   ]
  },
  {
   "cell_type": "markdown",
   "metadata": {},
   "source": [
    "\\begin{align*}\n",
    "&\\frac{\\partial l}{\\partial w^2} =  \\frac{\\partial l}{\\partial z^2} \\cdot \\frac{\\partial z^2}{\\partial w^2} = (a^2 -y)(a^1)^T \\\\\n",
    "&\\frac{\\partial l}{\\partial b^2} =  \\frac{\\partial l}{\\partial z^2} \\cdot \\frac{\\partial z^2}{\\partial b^2} = (a^2 -y) \\cdot 1\n",
    "\\end{align*}"
   ]
  },
  {
   "cell_type": "markdown",
   "metadata": {},
   "source": [
    "\\begin{align*}\n",
    "&\\frac{\\partial l}{\\partial a^1} = \\frac{\\partial l}{\\partial z^2} \\cdot \\frac{\\partial z^2}{\\partial a^1} = (w^2)^T(a^2 -y) \\\\\n",
    "&\\frac{\\partial l}{\\partial z^1} = \\frac{\\partial l}{\\partial a^1} \\circ \\frac{\\partial a^1}{\\partial z^1} = (w^2)^T(a^2 -y) \\circ a^1(1-a^1) \n",
    "\\end{align*}\n",
    "\n"
   ]
  },
  {
   "cell_type": "markdown",
   "metadata": {},
   "source": [
    "\\begin{align*}\n",
    "&\\frac{\\partial l}{\\partial w^1} = \\frac{\\partial l}{\\partial z^1} \\cdot \\frac{\\partial z^1}{\\partial w^1} = (w^2)^T(a^2 -y) \\circ a^1(1-a^1) \\cdot X^T \\\\\n",
    "&\\frac{\\partial l}{\\partial b^1} = \\frac{\\partial l}{\\partial z^1} \\cdot \\frac{\\partial z^1}{\\partial b^1} = (w^2)^T(a^2 -y) \\circ a^1(1-a^1) \\cdot 1\n",
    "\\end{align*}"
   ]
  },
  {
   "cell_type": "code",
   "execution_count": 36,
   "metadata": {},
   "outputs": [
    {
     "name": "stdout",
     "output_type": "stream",
     "text": [
      "outputs: 4\n",
      "the last lose: 0.00433864154071041\n"
     ]
    },
    {
     "data": {
      "image/png": "[encoded data removed]",
      "text/plain": [
       "<Figure size 640x480 with 1 Axes>"
      ]
     },
     "metadata": {},
     "output_type": "display_data"
    },
    {
     "name": "stdout",
     "output_type": "stream",
     "text": [
      "Input: [[0 0]], Prediction: [[0.0021879]]\n",
      "Input: [[0 1]], Prediction: [[0.99282779]]\n",
      "Input: [[1 0]], Prediction: [[0.99854731]]\n",
      "Input: [[1 1]], Prediction: [[0.00648894]]\n"
     ]
    }
   ],
   "source": [
    "import numpy as np\n",
    "import matplotlib.pyplot as plt\n",
    "\n",
    "# Defining the Neural Network for XOR\n",
    "class NeuralNetwork:\n",
    "    def __init__(self, input_size, hidden_size, output_size):\n",
    "        np.random.seed(314)\n",
    "        self.theta1 = np.random.rand(hidden_size, input_size).astype(np.float32)\n",
    "        self.theta2 = np.random.rand(output_size, hidden_size).astype(np.float32)\n",
    "        self.bias1 = np.random.rand(hidden_size,1).astype(np.float32)\n",
    "        self.bias2 = np.random.rand(output_size,1).astype(np.float32)\n",
    "       \n",
    "    def sigmoid(self, x):\n",
    "        return 1 / (1 + np.exp(-x))\n",
    "\n",
    "    def sigmoid_derivative(self, x):\n",
    "        return x * (1 - x)\n",
    "\n",
    "    def forward_run(self, input):\n",
    "        # print(f\"theta1_input: {self.theta1}  bias1:{self.bias1} theta2: {self.theta2} bias2:{self.bias2}\")\n",
    "        z1 = np.dot(self.theta1, input) + self.bias1\n",
    "        a1 = self.sigmoid(z1)\n",
    "        z2 = np.dot(self.theta2, a1) + self.bias2\n",
    "        a2 = self.sigmoid(z2)\n",
    "        return a2, a1\n",
    "    \n",
    "    def back_propagate(self, input, output, a2, a1):\n",
    "        N = input.shape[0]\n",
    "        delta_a2 = (a2 - output)/(a2*(1-a2))\n",
    "        delta_z2 = delta_a2 * self.sigmoid_derivative(a2) \n",
    "        d_theta2 = np.dot(delta_z2, a1.T) / N\n",
    "        d_bias2 = np.sum(delta_z2, axis=1, keepdims=True)  # Sum across columns for each bias\n",
    "        delta_a1 = np.dot(self.theta2.T, delta_z2)\n",
    "        delta_z1 = delta_a1 * self.sigmoid_derivative(a1)\n",
    "        d_theta1 = np.dot(delta_z1, input.T) / N\n",
    "        d_bias1 = np.sum(delta_z1, axis=1, keepdims=True) / N  # Sum across columns for each bias\n",
    "        return d_theta2, d_theta1, d_bias2,  d_bias1\n",
    "        \n",
    "    def loss(self, output, a2):\n",
    "        # cross entropy loss\n",
    "        return - (1 / output.shape[0]) * np.sum(output * np.log(a2) + (1 - output) * np.log(1 - a2))\n",
    "        # squared error loss\n",
    "        # return np.sum((output - a2) ** 2) / output.shape[0]\n",
    "\n",
    "# XOR Training Data\n",
    "inputs = np.array([[0, 0], [0, 1], [1, 0], [1, 1]]).T\n",
    "outputs = np.array([0, 1, 1, 0])\n",
    "print(f\"outputs: {outputs.shape[0]}\")\n",
    "\n",
    "# Network Parameters\n",
    "input_size = 2\n",
    "hidden_size = 4\n",
    "output_size = 1\n",
    "learning_rate = 0.1\n",
    "epochs = 10000\n",
    "\n",
    "# Initialize and Train the Network\n",
    "nn = NeuralNetwork(input_size, hidden_size, output_size)\n",
    "\n",
    "losses = []\n",
    "theta1_0 = []\n",
    "for epoch in range(epochs):\n",
    "    a2, a1 = nn.forward_run(inputs)\n",
    "    d_theta2, d_theta1, d_bias2, d_bias1 = nn.back_propagate(inputs, outputs, a2, a1)\n",
    "    nn.theta2 -= learning_rate * d_theta2\n",
    "    nn.theta1 -= learning_rate * d_theta1\n",
    "    nn.bias2 -= learning_rate * d_bias2\n",
    "    nn.bias1 -= learning_rate * d_bias1\n",
    "    theta1_0.append(nn.theta1 [0][0])\n",
    "    loss = nn.loss(outputs, a2)\n",
    "    losses.append(loss)\n",
    "\n",
    "# print the last losses\n",
    "print(f\"the last lose: {losses[-1]}\")\n",
    "# Plot the Loss over Time\n",
    "plt.plot(losses)\n",
    "plt.xlabel('Epoch')\n",
    "plt.ylabel('Loss')\n",
    "plt.title('Training Loss Over Time')\n",
    "plt.show()\n",
    "\n",
    "# plot the relationship between the loss and nn.theta2\n",
    "# plt.plot(theta1_0, losses)\n",
    "# plt.xlabel('Theta1_0')\n",
    "# plt.ylabel('Loss')\n",
    "# plt.title('Loss vs Theta1_0')\n",
    "# plt.show()\n",
    "\n",
    "# Testing the Neural Network\n",
    "test_inputs = np.array([[0, 0], [0, 1], [1, 0], [1, 1]]).T\n",
    "for i in range(test_inputs.shape[1]):\n",
    "    input = test_inputs[:, [i]]\n",
    "    prediction = nn.forward_run(input)\n",
    "    print(f\"Input: {test_inputs[:, [i]].T}, Prediction: {prediction[0]}\")"
   ]
  }
 ],
 "metadata": {
  "kernelspec": {
   "display_name": "Python 3",
   "language": "python",
   "name": "python3"
  },
  "language_info": {
   "codemirror_mode": {
    "name": "ipython",
    "version": 3
   },
   "file_extension": ".py",
   "mimetype": "text/x-python",
   "name": "python",
   "nbconvert_exporter": "python",
   "pygments_lexer": "ipython3",
   "version": "3.12.2"
  }
 },
 "nbformat": 4,
 "nbformat_minor": 2
}
