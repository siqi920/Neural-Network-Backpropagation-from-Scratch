{
 "cells": [
  {
   "cell_type": "code",
   "execution_count": 10,
   "metadata": {},
   "outputs": [
    {
     "name": "stdout",
     "output_type": "stream",
     "text": [
      "shape of the first csv file\n",
      "(82, 2018)\n",
      "    0  0.1  0.2  0.3  0.4  0.5  0.6  0.7  0.8  0.9  ...     0.701     0.702  \\\n",
      "77  0    0    0    0    0    0    0    0    0    0  ...  0.053839  0.034970   \n",
      "78  0    0    0    0    0    0    0    0    0    0  ...  0.054160  0.035414   \n",
      "79  0    0    0    0    0    0    0    0    0    0  ...  0.054021  0.034713   \n",
      "80  0    0    0    0    0    0    0    0    0    0  ...  0.053843  0.034575   \n",
      "81  0    0    0    0    0    0    0    0    0    0  ...  0.052442  0.033831   \n",
      "\n",
      "       0.703     0.704  0.705  0.706  0.707  0.708  L1  152  \n",
      "77  0.017259  0.006250      0      0      0      0  L1  152  \n",
      "78  0.017824  0.006580      0      0      0      0  L1  152  \n",
      "79  0.016977  0.006105      0      0      0      0  L1  152  \n",
      "80  0.016945  0.006102      0      0      0      0  L1  152  \n",
      "81  0.016800  0.006100      0      0      0      0  L1  152  \n",
      "\n",
      "[5 rows x 2018 columns]\n",
      "shape of the second csv file\n",
      "(61, 2018)\n"
     ]
    }
   ],
   "source": [
    "import pandas as pd\n",
    "# Read the CSV file\n",
    "df1 = pd.read_csv('../data/pressure_sensor_data/train/L1-6-0-4-1-152-50-3-1-ByGfS7-2024-01-11.csv')\n",
    "# print dimmensions of the first csv file\n",
    "print(\"shape of the first csv file\")\n",
    "print(df1.shape)\n",
    "print(df1.tail())\n",
    "\n",
    "\n",
    "df2 = pd.read_csv('../data/pressure_sensor_data/train/L1-6-0-5-1-152-50-3-1-ykVZbT-2024-01-11.csv', header=None)\n",
    "print(\"shape of the second csv file\")\n",
    "print(df2.shape)\n",
    "# print(df2.tail())   "
   ]
  }
 ],
 "metadata": {
  "kernelspec": {
   "display_name": "Python 3",
   "language": "python",
   "name": "python3"
  },
  "language_info": {
   "codemirror_mode": {
    "name": "ipython",
    "version": 3
   },
   "file_extension": ".py",
   "mimetype": "text/x-python",
   "name": "python",
   "nbconvert_exporter": "python",
   "pygments_lexer": "ipython3",
   "version": "3.10.13"
  }
 },
 "nbformat": 4,
 "nbformat_minor": 2
}
